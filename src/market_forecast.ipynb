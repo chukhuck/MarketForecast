{
 "cells": [
  {
   "cell_type": "markdown",
   "metadata": {},
   "source": [
    "# Market Forecast based on the cycling of the one.\r\n"
   ]
  },
  {
   "cell_type": "markdown",
   "metadata": {},
   "source": [
    "## *Intro*"
   ]
  },
  {
   "cell_type": "markdown",
   "metadata": {},
   "source": [
    "Useful libraries:\r\n"
   ]
  },
  {
   "cell_type": "code",
   "execution_count": 19,
   "metadata": {},
   "outputs": [],
   "source": [
    "from IPython.display import Markdown as md\r\n",
    "from datetime import date\r\n",
    "import datetime\r\n",
    "from chinancedownloader import update_data\r\n",
    "from basic_draw import draw_basic_plot"
   ]
  },
  {
   "cell_type": "markdown",
   "metadata": {},
   "source": [
    "Global variables:\r\n"
   ]
  },
  {
   "cell_type": "code",
   "execution_count": 23,
   "metadata": {},
   "outputs": [
    {
     "data": {
      "text/markdown": [
       "## Point of view: 2021. Period: 1954-01-01 - 2021-06-21. Step: daily"
      ],
      "text/plain": [
       "<IPython.core.display.Markdown object>"
      ]
     },
     "execution_count": 23,
     "metadata": {},
     "output_type": "execute_result"
    }
   ],
   "source": [
    "year = 2021\r\n",
    "\r\n",
    "need_update_data = False\r\n",
    "start_date = datetime.datetime.strptime('1954-01-01', '%Y-%m-%d').date()\r\n",
    "end_date = date.today()\r\n",
    "step = 'daily'\r\n",
    "\r\n",
    "unknown_ticket = 'UNK'\r\n",
    "\r\n",
    "currencies = {\r\n",
    "    'usdeur':   {'name': 'USD/EUR', 'ticket': 'usdeur', 'currency': 'USD', 'source': 'stooq', 'country': 'world'},\r\n",
    "    'usdrub':   {'name': 'USD/RUB', 'ticket': 'usdrub', 'currency': 'USD', 'source': 'stooq', 'country': 'world'},\r\n",
    "    'usdcny':   {'name': 'USD/CNY', 'ticket': 'usdcny', 'currency': 'USD', 'source': 'stooq', 'country': 'world'},\r\n",
    "    'rubcny':   {'name': 'RUB/CNY', 'ticket': 'rubcny', 'currency': 'RUB', 'source': 'stooq', 'country': 'world'},\r\n",
    "    'rubeur':   {'name': 'RUB/EUR', 'ticket': 'rubeur', 'currency': 'RUB', 'source': 'stooq', 'country': 'world'},\r\n",
    "    #'dxy':      {'name': 'DXY', 'ticket': 'DXY', 'currency': 'USD', 'source': 'investing', 'country': 'United States'},\r\n",
    "}\r\n",
    "\r\n",
    "us_indexes = {\r\n",
    "    'sp500':                {'country': 'United States', 'name': 'S&P 500', 'ticket': '^SPX', 'currency': 'USD',  'source': 'stooq'},\r\n",
    "    'dowjones':             {'country': 'United States', 'name': 'Dow Jones Industrial Average', 'ticket': '^DJI', 'currency': 'USD',  'source': 'stooq'},\r\n",
    "    'dowjones_transport':   {'country': 'United States', 'name': 'Dow Jones Transportation Average', 'ticket': '^DJT', 'currency': 'USD',  'source': 'stooq'},\r\n",
    "    'dowjones_utility':     {'country': 'United States', 'name': 'Dow Jones Utility Average', 'ticket': '^DJU', 'currency': 'USD',  'source': 'stooq'},\r\n",
    "    'nasdaq':               {'country': 'United States', 'name': 'NASDAQ Composite', 'ticket': '^NDQ', 'currency': 'USD',  'source': 'stooq'},\r\n",
    "    'russell1000':          {'country': 'United States', 'name': 'Russell 1000', 'ticket': '^RUT', 'currency': 'USD',  'source': 'yahoo'},\r\n",
    "    'russell2000':          {'country': 'United States', 'name': 'Russell 2000', 'ticket': '^RUA', 'currency': 'USD',  'source': 'yahoo'},\r\n",
    "    'russell3000':          {'country': 'United States', 'name': 'Russell 3000', 'ticket': '^RUI', 'currency': 'USD',  'source': 'yahoo'},\r\n",
    "    'russell2000g':         {'country': 'United States', 'name': 'Russell 2000 growth', 'ticket': '^RUJ', 'currency': 'USD',  'source': 'yahoo'},\r\n",
    "    'russell2000v':         {'country': 'United States', 'name': 'Russell 2000 value', 'ticket': '^RUO', 'currency': 'USD',  'source': 'yahoo'},\r\n",
    "    'treasury10':           {'country': 'United States', 'name': 'Treasury Yield 10 Years', 'ticket': '^TNX', 'currency': 'USD',  'source': 'yahoo'},\r\n",
    "    'vix':                  {'country': 'United States', 'name': 'CBOE Volatility Index', 'ticket': '^VIX', 'currency': 'USD',  'source': 'yahoo'}\r\n",
    "}\r\n",
    "\r\n",
    "russia_indexies = {\r\n",
    "    'moex':             {'country': 'Russia', 'name': 'MOEX Russia Index', 'ticket': 'IMOEX', 'currency': 'RUB',  'source': 'moex'},\r\n",
    "    'rts':              {'country': 'Russia', 'name': 'RTS Index USD', 'ticket': 'RTSI', 'currency': 'USD',  'source': 'moex'},\r\n",
    "    'moex_bluecheaps':  {'country': 'Russia', 'name': 'Индекс МосБиржи голубых фишек', 'ticket': 'MOEXBC', 'currency': 'RUB',  'source': 'moex'},\r\n",
    "    'moex100':          {'country': 'Russia', 'name': 'Индекс МосБиржи широкого рынка', 'ticket': 'MOEXBMI', 'currency': 'RUB',  'source': 'moex'},\r\n",
    "    'moex_2and3level':  {'country': 'Russia', 'name': 'Индекс МосБиржи средней и малой капитализации', 'ticket': 'MCXSM', 'currency': 'RUB',  'source': 'moex'},\r\n",
    "    'moex_oil':         {'country': 'Russia', 'name': 'Индекс МосБиржи Нефти и газа', 'ticket': 'MOEXOG', 'currency': 'RUB',  'source': 'moex'},\r\n",
    "    'moex_electro':     {'country': 'Russia', 'name': 'Индекс МосБиржи Электроэнергетики', 'ticket': 'MOEXEU', 'currency': 'RUB',  'source': 'moex'},\r\n",
    "    'moex_telecom':     {'country': 'Russia', 'name': 'Индекс МосБиржи Телекоммуникаций', 'ticket': 'MOEXTL', 'currency': 'RUB',  'source': 'moex'},\r\n",
    "    'moex_mandm':       {'country': 'Russia', 'name': 'Индекс МосБиржи Металлов и добычи', 'ticket': 'MOEXMM', 'currency': 'RUB',  'source': 'moex'},\r\n",
    "    'moex_finance':     {'country': 'Russia', 'name': 'Индекс МосБиржи Финансов', 'ticket': 'MOEXFN', 'currency': 'RUB',  'source': 'moex'},\r\n",
    "    'moex_potreb':      {'country': 'Russia', 'name': 'Индекс МосБиржи Потребительского сектора', 'ticket': 'MOEXCN', 'currency': 'RUB',  'source': 'moex'},\r\n",
    "    'moex_chemic':      {'country': 'Russia', 'name': 'Индекс МосБиржи Химии и нефтехимии', 'ticket': 'MOEXCH', 'currency': 'RUB',  'source': 'moex'},\r\n",
    "    'moex_it':          {'country': 'Russia', 'name': 'Индекс МосБиржи информационных технологий', 'ticket': 'MOEXIT', 'currency': 'RUB',  'source': 'moex'},\r\n",
    "    'moex_builders':    {'country': 'Russia', 'name': 'Индекс МосБиржи строительных компаний', 'ticket': 'MOEXRE', 'currency': 'RUB',  'source': 'moex'},\r\n",
    "    'moex_transport':   {'country': 'Russia', 'name': 'Индекс МосБиржи Транспорта', 'ticket': 'MOEXTN', 'currency': 'RUB',  'source': 'moex'},\r\n",
    "    'moex_bond_full':   {'country': 'Russia', 'name': 'Индекс государственных облигаций (cовокупный доход)', 'ticket': 'RGBITR', 'currency': 'RUB',  'source': 'moex'},\r\n",
    "    'moex_bond':        {'country': 'Russia', 'name': 'Индекс государственных облигаций (ценовой)', 'ticket': 'RGBI', 'currency': 'RUB',  'source': 'moex'},\r\n",
    "    'moex_domclick':    {'country': 'Russia', 'name': 'Индекс московской недвижимости ДомКлик', 'ticket': 'MREDC', 'currency': 'RUB',  'source': 'moex'},\r\n",
    "    'moex_russia_vol':  {'country': 'Russia', 'name': 'Индекс волатильности российского рынка', 'ticket': 'RVI', 'currency': 'RUB',  'source': 'moex'},\r\n",
    "    'MSCI_Russia':      {'country': 'Russia', 'name': 'MSCI RUSSIA Standard (Large+Mid Cap)', 'ticket': 'MSCI Russia', 'currency': 'USD',  'source': 'investing'},\r\n",
    "    'MSCI_Russia_adr':  {'country': 'Russia', 'name': 'MSCI RUSSIA ADR/GDR Standard(Large+Mid Cap)', 'ticket': 'MSCI Russia ADR/GDR', 'currency': 'USD',  'source': 'investing'},\r\n",
    "}\r\n",
    "\r\n",
    "other_indexies = {\r\n",
    "    #'csi':  {'name': 'China. CSI 300 Index', 'ticket': '000300.SS', 'source': 'yahoo'}, -\r\n",
    "\r\n",
    "    'msci_china':  {'country': 'China', 'name': 'MSCI China Net', 'ticket': 'MSCI China Net USD', 'currency': 'USD',  'source': 'investing'},\r\n",
    "    'msci_india':  {'country': 'India', 'name': 'MSCI India Standard (Large+Mid Cap)', 'ticket': 'MSCI India', 'currency': 'USD',  'source': 'investing'},\r\n",
    "    \r\n",
    "    'hsi':  {'country': 'China', 'name': 'China. Hang Seng Index', 'ticket': '^HSI', 'currency': 'USD',   'source': 'stooq'},\r\n",
    "    'shc':  {'country': 'China', 'name': 'China. Shanghai Composite Index', 'ticket': '^SHC', 'currency': 'USD',   'source': 'stooq'},\r\n",
    "\r\n",
    "    'ftse250': {'country': 'United Kingdom', 'name': 'United Kingdom. FTSE 250', 'ticket': '^FTM', 'currency': 'USD',   'source': 'stooq'},\r\n",
    "    'cry': {'country': 'World', 'name': 'CRB Commodity Index', 'ticket': '^CRY', 'currency': 'USD',   'source': 'stooq'},\r\n",
    "    'cac40': {'country': 'France', 'name': 'France. CAC 40', 'ticket': '^CAC', 'currency': 'USD',   'source': 'stooq'},\r\n",
    "    'dax': {'country': 'Germany', 'name': 'Germany. DAX Index', 'ticket': '^DAX', 'currency': 'USD',   'source': 'stooq'},\r\n",
    "\r\n",
    "    'msci_world':  {'country': 'World', 'name': 'MSCI WORLD Standard(Large+Mid Cap)', 'ticket': 'MSCI World', 'currency': 'USD',   'source': 'investing'}\r\n",
    "}\r\n",
    "\r\n",
    "md(\"## Point of view: {0}. Period: {1} - {2}. Step: {3}\".format(\r\n",
    "    year, start_date, end_date, step))\r\n"
   ]
  },
  {
   "cell_type": "markdown",
   "metadata": {},
   "source": [
    "### Here we`ll analyze the cycling of markets.\r\n",
    "\r\n",
    "#### Tools:\r\n",
    "\r\n",
    "1. Seasonal pattern. Average pattern.\r\n",
    "\r\n",
    "    + all of years.\r\n",
    "    + Election\r\n",
    "    + republic or democracy\r\n",
    "\r\n",
    "2. Индекс давления ганна\r\n",
    "3. 39 месячный цикл акций\r\n",
    "4. Десятилетние циклы\r\n",
    "5. Естественный цикл\r\n",
    "\r\n",
    "#### Markets and its indexes:\r\n"
   ]
  },
  {
   "cell_type": "markdown",
   "metadata": {},
   "source": [
    "\r\n",
    "### *1. Currency*\r\n"
   ]
  },
  {
   "cell_type": "code",
   "execution_count": 25,
   "metadata": {},
   "outputs": [],
   "source": [
    "if need_update_data:\r\n",
    "   md(''.join('+ {0} \\({1}\\). File is : {2}\\n'.format(\r\n",
    "      desc['name'],\r\n",
    "      desc['ticket'], \r\n",
    "      update_data(desc['source'], desc['country'], desc['ticket'], start_date, end_date, short_name, desc['currency']))\r\n",
    "       for short_name, desc in currencies.items() if desc['ticket'] is not unknown_ticket))\r\n",
    "else:\r\n",
    "   md(''.join('+ {0} \\({1}\\). File is : {2}\\n'.format(\r\n",
    "      desc['name'],\r\n",
    "      desc['ticket'],\r\n",
    "      short_name + '.csv')\r\n",
    "       for short_name, desc in currencies.items() if desc['ticket'] is not unknown_ticket))\r\n"
   ]
  },
  {
   "cell_type": "markdown",
   "metadata": {},
   "source": [
    "### *2. US indexies*"
   ]
  },
  {
   "cell_type": "code",
   "execution_count": 24,
   "metadata": {},
   "outputs": [],
   "source": [
    "if need_update_data:\r\n",
    "   md(''.join('+ {0} \\({1}\\). File is : {2}\\n'.format(\r\n",
    "      desc['name'],\r\n",
    "      desc['ticket'],\r\n",
    "      update_data(desc['source'], desc['country'], desc['ticket'], start_date, end_date, short_name, desc['currency']))\r\n",
    "       for short_name, desc in us_indexes.items() if desc['ticket'] is not unknown_ticket))\r\n",
    "else:\r\n",
    "   md(''.join('+ {0} \\({1}\\). File is : {2}\\n'.format(\r\n",
    "   desc['name'],\r\n",
    "   desc['ticket'],\r\n",
    "   short_name + '.csv')\r\n",
    "    for short_name, desc in us_indexes.items() if desc['ticket'] is not unknown_ticket))\r\n"
   ]
  },
  {
   "cell_type": "markdown",
   "metadata": {},
   "source": [
    "### *3. Russia indexies*"
   ]
  },
  {
   "cell_type": "code",
   "execution_count": 26,
   "metadata": {},
   "outputs": [],
   "source": [
    "if need_update_data:\r\n",
    "   md(''.join('+ {0} \\({1}\\). File is : {2}\\n'.format(\r\n",
    "      desc['name'],\r\n",
    "      desc['ticket'],\r\n",
    "      update_data(desc['source'], desc['country'], desc['ticket'], start_date, end_date, short_name, desc['currency']))\r\n",
    "       for short_name, desc in russia_indexies.items() if desc['ticket'] is not unknown_ticket))\r\n",
    "else:\r\n",
    "   md(''.join('+ {0} \\({1}\\). File is : {2}\\n'.format(\r\n",
    "   desc['name'],\r\n",
    "   desc['ticket'],\r\n",
    "   short_name + '.csv')\r\n",
    "    for short_name, desc in russia_indexies.items() if desc['ticket'] is not unknown_ticket))\r\n"
   ]
  },
  {
   "cell_type": "markdown",
   "metadata": {},
   "source": [
    "### *4. Other indexies*"
   ]
  },
  {
   "cell_type": "code",
   "execution_count": 27,
   "metadata": {},
   "outputs": [],
   "source": [
    "if need_update_data:\r\n",
    "   md(''.join('+ {0} \\({1}\\). File is : {2}\\n'.format(\r\n",
    "      desc['name'],\r\n",
    "      desc['ticket'],\r\n",
    "      update_data(desc['source'], desc['country'], desc['ticket'], start_date, end_date, short_name, desc['currency']))\r\n",
    "       for short_name, desc in other_indexies.items() if desc['ticket'] is not unknown_ticket))\r\n",
    "else:\r\n",
    "      md(''.join('+ {0} \\({1}\\). File is : {2}\\n'.format(\r\n",
    "      desc['name'],\r\n",
    "      desc['ticket'],\r\n",
    "      short_name + '.csv')\r\n",
    "       for short_name, desc in other_indexies.items() if desc['ticket'] is not unknown_ticket))\r\n"
   ]
  },
  {
   "cell_type": "markdown",
   "metadata": {},
   "source": [
    "## Currency"
   ]
  },
  {
   "cell_type": "code",
   "execution_count": 28,
   "metadata": {},
   "outputs": [
    {
     "ename": "ValueError",
     "evalue": "Expected object or value",
     "output_type": "error",
     "traceback": [
      "\u001b[1;31m---------------------------------------------------------------------------\u001b[0m",
      "\u001b[1;31mValueError\u001b[0m                                Traceback (most recent call last)",
      "\u001b[1;32m<ipython-input-28-fe14f7022cee>\u001b[0m in \u001b[0;36m<module>\u001b[1;34m\u001b[0m\n\u001b[0;32m      1\u001b[0m [draw_basic_plot(filename=short_name, title=desc['ticket'])\n\u001b[1;32m----> 2\u001b[1;33m  for short_name, desc in currencies.items() if desc['ticket'] is not unknown_ticket]\n\u001b[0m",
      "\u001b[1;32m<ipython-input-28-fe14f7022cee>\u001b[0m in \u001b[0;36m<listcomp>\u001b[1;34m(.0)\u001b[0m\n\u001b[0;32m      1\u001b[0m [draw_basic_plot(filename=short_name, title=desc['ticket'])\n\u001b[1;32m----> 2\u001b[1;33m  for short_name, desc in currencies.items() if desc['ticket'] is not unknown_ticket]\n\u001b[0m",
      "\u001b[1;32mo:\\Repos\\MarketForecast\\src\\basic_draw.py\u001b[0m in \u001b[0;36mdraw_basic_plot\u001b[1;34m(filename, title)\u001b[0m\n\u001b[0;32m      4\u001b[0m \u001b[1;33m\u001b[0m\u001b[0m\n\u001b[0;32m      5\u001b[0m \u001b[1;32mdef\u001b[0m \u001b[0mdraw_basic_plot\u001b[0m\u001b[1;33m(\u001b[0m\u001b[0mfilename\u001b[0m\u001b[1;33m,\u001b[0m \u001b[0mtitle\u001b[0m\u001b[1;33m)\u001b[0m\u001b[1;33m:\u001b[0m\u001b[1;33m\u001b[0m\u001b[1;33m\u001b[0m\u001b[0m\n\u001b[1;32m----> 6\u001b[1;33m     \u001b[0mdf\u001b[0m \u001b[1;33m=\u001b[0m \u001b[0mpd\u001b[0m\u001b[1;33m.\u001b[0m\u001b[0mread_csv\u001b[0m\u001b[1;33m(\u001b[0m\u001b[1;34m'..\\\\data\\\\{}.csv'\u001b[0m\u001b[1;33m.\u001b[0m\u001b[0mformat\u001b[0m\u001b[1;33m(\u001b[0m\u001b[0mfilename\u001b[0m\u001b[1;33m)\u001b[0m\u001b[1;33m)\u001b[0m\u001b[1;33m\u001b[0m\u001b[1;33m\u001b[0m\u001b[0m\n\u001b[0m\u001b[0;32m      7\u001b[0m \u001b[1;33m\u001b[0m\u001b[0m\n\u001b[0;32m      8\u001b[0m     \u001b[0mfig\u001b[0m \u001b[1;33m=\u001b[0m \u001b[0mpx\u001b[0m\u001b[1;33m.\u001b[0m\u001b[0mline\u001b[0m\u001b[1;33m(\u001b[0m\u001b[0mdf\u001b[0m\u001b[1;33m,\u001b[0m \u001b[0mx\u001b[0m\u001b[1;33m=\u001b[0m\u001b[1;34m'date'\u001b[0m\u001b[1;33m,\u001b[0m \u001b[0my\u001b[0m\u001b[1;33m=\u001b[0m\u001b[1;34m'close'\u001b[0m\u001b[1;33m,\u001b[0m \u001b[0mtitle\u001b[0m\u001b[1;33m=\u001b[0m\u001b[0mtitle\u001b[0m\u001b[1;33m,\u001b[0m \u001b[1;33m)\u001b[0m\u001b[1;33m\u001b[0m\u001b[1;33m\u001b[0m\u001b[0m\n",
      "\u001b[1;32mC:\\Program Files (x86)\\Microsoft Visual Studio\\Shared\\Python37_86\\lib\\site-packages\\pandas\\util\\_decorators.py\u001b[0m in \u001b[0;36mwrapper\u001b[1;34m(*args, **kwargs)\u001b[0m\n\u001b[0;32m    197\u001b[0m                 \u001b[1;32melse\u001b[0m\u001b[1;33m:\u001b[0m\u001b[1;33m\u001b[0m\u001b[1;33m\u001b[0m\u001b[0m\n\u001b[0;32m    198\u001b[0m                     \u001b[0mkwargs\u001b[0m\u001b[1;33m[\u001b[0m\u001b[0mnew_arg_name\u001b[0m\u001b[1;33m]\u001b[0m \u001b[1;33m=\u001b[0m \u001b[0mnew_arg_value\u001b[0m\u001b[1;33m\u001b[0m\u001b[1;33m\u001b[0m\u001b[0m\n\u001b[1;32m--> 199\u001b[1;33m             \u001b[1;32mreturn\u001b[0m \u001b[0mfunc\u001b[0m\u001b[1;33m(\u001b[0m\u001b[1;33m*\u001b[0m\u001b[0margs\u001b[0m\u001b[1;33m,\u001b[0m \u001b[1;33m**\u001b[0m\u001b[0mkwargs\u001b[0m\u001b[1;33m)\u001b[0m\u001b[1;33m\u001b[0m\u001b[1;33m\u001b[0m\u001b[0m\n\u001b[0m\u001b[0;32m    200\u001b[0m \u001b[1;33m\u001b[0m\u001b[0m\n\u001b[0;32m    201\u001b[0m         \u001b[1;32mreturn\u001b[0m \u001b[0mcast\u001b[0m\u001b[1;33m(\u001b[0m\u001b[0mF\u001b[0m\u001b[1;33m,\u001b[0m \u001b[0mwrapper\u001b[0m\u001b[1;33m)\u001b[0m\u001b[1;33m\u001b[0m\u001b[1;33m\u001b[0m\u001b[0m\n",
      "\u001b[1;32mC:\\Program Files (x86)\\Microsoft Visual Studio\\Shared\\Python37_86\\lib\\site-packages\\pandas\\util\\_decorators.py\u001b[0m in \u001b[0;36mwrapper\u001b[1;34m(*args, **kwargs)\u001b[0m\n\u001b[0;32m    297\u001b[0m                 )\n\u001b[0;32m    298\u001b[0m                 \u001b[0mwarnings\u001b[0m\u001b[1;33m.\u001b[0m\u001b[0mwarn\u001b[0m\u001b[1;33m(\u001b[0m\u001b[0mmsg\u001b[0m\u001b[1;33m,\u001b[0m \u001b[0mFutureWarning\u001b[0m\u001b[1;33m,\u001b[0m \u001b[0mstacklevel\u001b[0m\u001b[1;33m=\u001b[0m\u001b[0mstacklevel\u001b[0m\u001b[1;33m)\u001b[0m\u001b[1;33m\u001b[0m\u001b[1;33m\u001b[0m\u001b[0m\n\u001b[1;32m--> 299\u001b[1;33m             \u001b[1;32mreturn\u001b[0m \u001b[0mfunc\u001b[0m\u001b[1;33m(\u001b[0m\u001b[1;33m*\u001b[0m\u001b[0margs\u001b[0m\u001b[1;33m,\u001b[0m \u001b[1;33m**\u001b[0m\u001b[0mkwargs\u001b[0m\u001b[1;33m)\u001b[0m\u001b[1;33m\u001b[0m\u001b[1;33m\u001b[0m\u001b[0m\n\u001b[0m\u001b[0;32m    300\u001b[0m \u001b[1;33m\u001b[0m\u001b[0m\n\u001b[0;32m    301\u001b[0m         \u001b[1;32mreturn\u001b[0m \u001b[0mwrapper\u001b[0m\u001b[1;33m\u001b[0m\u001b[1;33m\u001b[0m\u001b[0m\n",
      "\u001b[1;32mC:\\Program Files (x86)\\Microsoft Visual Studio\\Shared\\Python37_86\\lib\\site-packages\\pandas\\io\\json\\_json.py\u001b[0m in \u001b[0;36mread_json\u001b[1;34m(path_or_buf, orient, typ, dtype, convert_axes, convert_dates, keep_default_dates, numpy, precise_float, date_unit, encoding, lines, chunksize, compression, nrows, storage_options)\u001b[0m\n\u001b[0;32m    561\u001b[0m \u001b[1;33m\u001b[0m\u001b[0m\n\u001b[0;32m    562\u001b[0m     \u001b[1;32mwith\u001b[0m \u001b[0mjson_reader\u001b[0m\u001b[1;33m:\u001b[0m\u001b[1;33m\u001b[0m\u001b[1;33m\u001b[0m\u001b[0m\n\u001b[1;32m--> 563\u001b[1;33m         \u001b[1;32mreturn\u001b[0m \u001b[0mjson_reader\u001b[0m\u001b[1;33m.\u001b[0m\u001b[0mread\u001b[0m\u001b[1;33m(\u001b[0m\u001b[1;33m)\u001b[0m\u001b[1;33m\u001b[0m\u001b[1;33m\u001b[0m\u001b[0m\n\u001b[0m\u001b[0;32m    564\u001b[0m \u001b[1;33m\u001b[0m\u001b[0m\n\u001b[0;32m    565\u001b[0m \u001b[1;33m\u001b[0m\u001b[0m\n",
      "\u001b[1;32mC:\\Program Files (x86)\\Microsoft Visual Studio\\Shared\\Python37_86\\lib\\site-packages\\pandas\\io\\json\\_json.py\u001b[0m in \u001b[0;36mread\u001b[1;34m(self)\u001b[0m\n\u001b[0;32m    692\u001b[0m                 \u001b[0mobj\u001b[0m \u001b[1;33m=\u001b[0m \u001b[0mself\u001b[0m\u001b[1;33m.\u001b[0m\u001b[0m_get_object_parser\u001b[0m\u001b[1;33m(\u001b[0m\u001b[0mself\u001b[0m\u001b[1;33m.\u001b[0m\u001b[0m_combine_lines\u001b[0m\u001b[1;33m(\u001b[0m\u001b[0mdata_lines\u001b[0m\u001b[1;33m)\u001b[0m\u001b[1;33m)\u001b[0m\u001b[1;33m\u001b[0m\u001b[1;33m\u001b[0m\u001b[0m\n\u001b[0;32m    693\u001b[0m         \u001b[1;32melse\u001b[0m\u001b[1;33m:\u001b[0m\u001b[1;33m\u001b[0m\u001b[1;33m\u001b[0m\u001b[0m\n\u001b[1;32m--> 694\u001b[1;33m             \u001b[0mobj\u001b[0m \u001b[1;33m=\u001b[0m \u001b[0mself\u001b[0m\u001b[1;33m.\u001b[0m\u001b[0m_get_object_parser\u001b[0m\u001b[1;33m(\u001b[0m\u001b[0mself\u001b[0m\u001b[1;33m.\u001b[0m\u001b[0mdata\u001b[0m\u001b[1;33m)\u001b[0m\u001b[1;33m\u001b[0m\u001b[1;33m\u001b[0m\u001b[0m\n\u001b[0m\u001b[0;32m    695\u001b[0m         \u001b[0mself\u001b[0m\u001b[1;33m.\u001b[0m\u001b[0mclose\u001b[0m\u001b[1;33m(\u001b[0m\u001b[1;33m)\u001b[0m\u001b[1;33m\u001b[0m\u001b[1;33m\u001b[0m\u001b[0m\n\u001b[0;32m    696\u001b[0m         \u001b[1;32mreturn\u001b[0m \u001b[0mobj\u001b[0m\u001b[1;33m\u001b[0m\u001b[1;33m\u001b[0m\u001b[0m\n",
      "\u001b[1;32mC:\\Program Files (x86)\\Microsoft Visual Studio\\Shared\\Python37_86\\lib\\site-packages\\pandas\\io\\json\\_json.py\u001b[0m in \u001b[0;36m_get_object_parser\u001b[1;34m(self, json)\u001b[0m\n\u001b[0;32m    714\u001b[0m         \u001b[0mobj\u001b[0m \u001b[1;33m=\u001b[0m \u001b[1;32mNone\u001b[0m\u001b[1;33m\u001b[0m\u001b[1;33m\u001b[0m\u001b[0m\n\u001b[0;32m    715\u001b[0m         \u001b[1;32mif\u001b[0m \u001b[0mtyp\u001b[0m \u001b[1;33m==\u001b[0m \u001b[1;34m\"frame\"\u001b[0m\u001b[1;33m:\u001b[0m\u001b[1;33m\u001b[0m\u001b[1;33m\u001b[0m\u001b[0m\n\u001b[1;32m--> 716\u001b[1;33m             \u001b[0mobj\u001b[0m \u001b[1;33m=\u001b[0m \u001b[0mFrameParser\u001b[0m\u001b[1;33m(\u001b[0m\u001b[0mjson\u001b[0m\u001b[1;33m,\u001b[0m \u001b[1;33m**\u001b[0m\u001b[0mkwargs\u001b[0m\u001b[1;33m)\u001b[0m\u001b[1;33m.\u001b[0m\u001b[0mparse\u001b[0m\u001b[1;33m(\u001b[0m\u001b[1;33m)\u001b[0m\u001b[1;33m\u001b[0m\u001b[1;33m\u001b[0m\u001b[0m\n\u001b[0m\u001b[0;32m    717\u001b[0m \u001b[1;33m\u001b[0m\u001b[0m\n\u001b[0;32m    718\u001b[0m         \u001b[1;32mif\u001b[0m \u001b[0mtyp\u001b[0m \u001b[1;33m==\u001b[0m \u001b[1;34m\"series\"\u001b[0m \u001b[1;32mor\u001b[0m \u001b[0mobj\u001b[0m \u001b[1;32mis\u001b[0m \u001b[1;32mNone\u001b[0m\u001b[1;33m:\u001b[0m\u001b[1;33m\u001b[0m\u001b[1;33m\u001b[0m\u001b[0m\n",
      "\u001b[1;32mC:\\Program Files (x86)\\Microsoft Visual Studio\\Shared\\Python37_86\\lib\\site-packages\\pandas\\io\\json\\_json.py\u001b[0m in \u001b[0;36mparse\u001b[1;34m(self)\u001b[0m\n\u001b[0;32m    829\u001b[0m \u001b[1;33m\u001b[0m\u001b[0m\n\u001b[0;32m    830\u001b[0m         \u001b[1;32melse\u001b[0m\u001b[1;33m:\u001b[0m\u001b[1;33m\u001b[0m\u001b[1;33m\u001b[0m\u001b[0m\n\u001b[1;32m--> 831\u001b[1;33m             \u001b[0mself\u001b[0m\u001b[1;33m.\u001b[0m\u001b[0m_parse_no_numpy\u001b[0m\u001b[1;33m(\u001b[0m\u001b[1;33m)\u001b[0m\u001b[1;33m\u001b[0m\u001b[1;33m\u001b[0m\u001b[0m\n\u001b[0m\u001b[0;32m    832\u001b[0m \u001b[1;33m\u001b[0m\u001b[0m\n\u001b[0;32m    833\u001b[0m         \u001b[1;32mif\u001b[0m \u001b[0mself\u001b[0m\u001b[1;33m.\u001b[0m\u001b[0mobj\u001b[0m \u001b[1;32mis\u001b[0m \u001b[1;32mNone\u001b[0m\u001b[1;33m:\u001b[0m\u001b[1;33m\u001b[0m\u001b[1;33m\u001b[0m\u001b[0m\n",
      "\u001b[1;32mC:\\Program Files (x86)\\Microsoft Visual Studio\\Shared\\Python37_86\\lib\\site-packages\\pandas\\io\\json\\_json.py\u001b[0m in \u001b[0;36m_parse_no_numpy\u001b[1;34m(self)\u001b[0m\n\u001b[0;32m   1077\u001b[0m         \u001b[1;32mif\u001b[0m \u001b[0morient\u001b[0m \u001b[1;33m==\u001b[0m \u001b[1;34m\"columns\"\u001b[0m\u001b[1;33m:\u001b[0m\u001b[1;33m\u001b[0m\u001b[1;33m\u001b[0m\u001b[0m\n\u001b[0;32m   1078\u001b[0m             self.obj = DataFrame(\n\u001b[1;32m-> 1079\u001b[1;33m                 \u001b[0mloads\u001b[0m\u001b[1;33m(\u001b[0m\u001b[0mjson\u001b[0m\u001b[1;33m,\u001b[0m \u001b[0mprecise_float\u001b[0m\u001b[1;33m=\u001b[0m\u001b[0mself\u001b[0m\u001b[1;33m.\u001b[0m\u001b[0mprecise_float\u001b[0m\u001b[1;33m)\u001b[0m\u001b[1;33m,\u001b[0m \u001b[0mdtype\u001b[0m\u001b[1;33m=\u001b[0m\u001b[1;32mNone\u001b[0m\u001b[1;33m\u001b[0m\u001b[1;33m\u001b[0m\u001b[0m\n\u001b[0m\u001b[0;32m   1080\u001b[0m             )\n\u001b[0;32m   1081\u001b[0m         \u001b[1;32melif\u001b[0m \u001b[0morient\u001b[0m \u001b[1;33m==\u001b[0m \u001b[1;34m\"split\"\u001b[0m\u001b[1;33m:\u001b[0m\u001b[1;33m\u001b[0m\u001b[1;33m\u001b[0m\u001b[0m\n",
      "\u001b[1;31mValueError\u001b[0m: Expected object or value"
     ]
    }
   ],
   "source": [
    "[draw_basic_plot(filename=short_name, title=desc['ticket'])\r\n",
    " for short_name, desc in currencies.items() if desc['ticket'] is not unknown_ticket]"
   ]
  },
  {
   "cell_type": "markdown",
   "metadata": {},
   "source": [
    "## US market"
   ]
  },
  {
   "cell_type": "code",
   "execution_count": null,
   "metadata": {},
   "outputs": [],
   "source": [
    "[draw_basic_plot(filename=short_name, title=desc['ticket'])\r\n",
    " for short_name, desc in us_indexes.items() if desc['ticket'] is not unknown_ticket]\r\n"
   ]
  },
  {
   "cell_type": "markdown",
   "metadata": {},
   "source": [
    "## Russia market"
   ]
  },
  {
   "cell_type": "code",
   "execution_count": null,
   "metadata": {},
   "outputs": [],
   "source": [
    "[draw_basic_plot(filename=short_name, title=desc['ticket'])\r\n",
    " for short_name, desc in russia_indexies.items() if desc['ticket'] is not unknown_ticket]\r\n"
   ]
  },
  {
   "cell_type": "markdown",
   "metadata": {},
   "source": [
    "## Other markets"
   ]
  },
  {
   "cell_type": "code",
   "execution_count": null,
   "metadata": {},
   "outputs": [],
   "source": [
    "[draw_basic_plot(filename=short_name, title=desc['ticket'])\r\n",
    " for short_name, desc in other_indexies.items() if desc['ticket'] is not unknown_ticket]\r\n"
   ]
  }
 ],
 "metadata": {
  "interpreter": {
   "hash": "b140b1f891d7f5d80e32e2da320cf6ca9380f361466450903247e3a62134aeb6"
  },
  "kernelspec": {
   "display_name": "Python 3.7.8 32-bit",
   "name": "python3"
  },
  "language_info": {
   "codemirror_mode": {
    "name": "ipython",
    "version": 3
   },
   "file_extension": ".py",
   "mimetype": "text/x-python",
   "name": "python",
   "nbconvert_exporter": "python",
   "pygments_lexer": "ipython3",
   "version": "3.7.8"
  },
  "orig_nbformat": 3
 },
 "nbformat": 4,
 "nbformat_minor": 2
}