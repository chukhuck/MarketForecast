{
 "cells": [
  {
   "cell_type": "markdown",
   "metadata": {},
   "source": [
    "# Market Forecast based on the cycling of the one.\r\n"
   ]
  },
  {
   "cell_type": "markdown",
   "metadata": {},
   "source": [
    "## *Intro*"
   ]
  },
  {
   "cell_type": "markdown",
   "metadata": {},
   "source": [
    "Useful libraries:\r\n"
   ]
  },
  {
   "cell_type": "code",
   "execution_count": 54,
   "metadata": {},
   "outputs": [
    {
     "ename": "SyntaxError",
     "evalue": "invalid syntax (<ipython-input-54-00e9e99c09a9>, line 13)",
     "output_type": "error",
     "traceback": [
      "\u001b[1;36m  File \u001b[1;32m\"<ipython-input-54-00e9e99c09a9>\"\u001b[1;36m, line \u001b[1;32m13\u001b[0m\n\u001b[1;33m    match source:\u001b[0m\n\u001b[1;37m               ^\u001b[0m\n\u001b[1;31mSyntaxError\u001b[0m\u001b[1;31m:\u001b[0m invalid syntax\n"
     ]
    }
   ],
   "source": [
    "from moex import MOEX\r\n",
    "from IPython.display import Markdown as md\r\n",
    "from pprint import pprint\r\n",
    "from datetime import date\r\n",
    "from get_data_file import get_filename\r\n",
    "from basic_draw import draw_basic_plot\r\n",
    "from urllib import request\r\n",
    "from yahoofinancials import YahooFinancials\r\n",
    "import json\r\n",
    "from pathlib import Path\r\n",
    "import pandas as pd\r\n",
    "import csv\r\n",
    "import os\r\n",
    "\r\n",
    "def update_data(source:str, ticket:str, date_from:date, date_to:date, filename: str):\r\n",
    "    match source:\r\n",
    "        case 'moex':\r\n",
    "            update_from_moex(filename=filename,\r\n",
    "                ticket=ticket, date_from=date_from, date_to=date_to)\r\n",
    "        case 'stooq':\r\n",
    "            update_from_stooq(filename=filename,\r\n",
    "                ticket=ticket, date_from=date_from, date_to=date_to)\r\n",
    "        case 'msci':\r\n",
    "            update_from_msci(filename=filename,\r\n",
    "                ticket=ticket, date_from=date_from, date_to=date_to)\r\n",
    "        case 'yahoo':\r\n",
    "            update_from_yahoo(filename=filename,\r\n",
    "                ticket=ticket, date_from=date_from, date_to=date_to)\r\n",
    "        case _ :\r\n",
    "            raise ValueError('Unknown data source')\r\n",
    "\r\n",
    "def update_from_moex(filename: str, ticket: str, date_from: date, date_to: date):\r\n",
    "    moex = MOEX()\r\n",
    "    data = moex.history_engine_market_security(\r\n",
    "        date_start=date_from.strftime('%YYYY%-mm-%dd'), date_end=date_to.strftime('%YYYY%-mm-%dd'), security=ticket)\r\n",
    "    \r\n",
    "    df = data[[\"TRADEDATE\", \"SECID\", \"OPEN\", \"CLOSE\", \"LOW\", \"HIGH\", \"VALUE\", \"CURRENCYID\"]]\r\n",
    "    df.to_csv('..\\\\data\\\\{}.csv'.format(filename))\r\n",
    "\r\n",
    "def update_from_stooq(filename: str, ticket: str, date_from: date, date_to: date):\r\n",
    "    date_start = date_from.strftime('%YYYY%mm%dd')\r\n",
    "    date_end = date_to.strftime('%YYYY%mm%dd')\r\n",
    "    url = 'https://stooq.com/q/d/l/?s={0}&d1={1}&d2={2}&i=d'.format(\r\n",
    "        ticket, date_start, date_end)\r\n",
    "\r\n",
    "    content = request.urlopen(url).read()\r\n",
    "\r\n",
    "    df = pd.DataFrame(content)\r\n",
    "    df.to_csv('..\\\\data\\\\{}.csv'.format(filename))\r\n",
    "\r\n",
    "def update_from_msci(filename: str, ticket: str, date_from: date, date_to: date):\r\n",
    "    date_start = date_from.strftime('%YYYY%mm%dd')  # '20200104'\r\n",
    "    date_end = date_to.strftime('%YYYY%mm%dd')\r\n",
    "    url = 'https://app2.msci.com/products/service/index/indexmaster/downloadLevelData?output=INDEX_LEVELS&currency_symbol=USD&index_variant=STRD&start_date={0}&end_date={1}&data_frequency=DAILY&baseValue=false&index_codes={2}'.format(\r\n",
    "        date_start, date_end, ticket)\r\n",
    "\r\n",
    "    content = request.urlopen(url).read()\r\n",
    "    with open('..\\\\data\\\\msci_temp.csv', 'wb+') as fp:\r\n",
    "        fp.write(content)\r\n",
    "\r\n",
    "    xls = pd.ExcelFile('..\\\\data\\\\msci_temp.csv')\r\n",
    "\r\n",
    "    sheet = xls.parse(0)\r\n",
    "\r\n",
    "    sheet = sheet.drop(sheet.index[[0, 1, 2, 3, 4, 5]])\r\n",
    "    sheet = sheet.drop(\r\n",
    "        sheet.index[list(range(len(sheet.index) - 19, len(sheet.index)))])\r\n",
    "\r\n",
    "    df = pd.DataFrame()\r\n",
    "    df.assign(Date = sheet.column(0))\r\n",
    "    df.assign(Close = sheet.column(1))\r\n",
    "    df.assign(Open=pd.Series(len(sheet.column(1))))\r\n",
    "    df.assign(Low=pd.Series(len(sheet.column(1))))\r\n",
    "    df.assign(High=pd.Series(len(sheet.column(1))))\r\n",
    "    df.assign(Volume=pd.Series(len(sheet.column(1))))\r\n",
    "    df.assign(Capitalisation=pd.Series(len(sheet.column(1))))\r\n",
    "\r\n",
    "    df.to_csv('..\\\\data\\\\{}].csv'.format(filename))\r\n",
    "\r\n",
    "    if(os.path.isfile('..\\\\data\\\\msci_temp.csv')):\r\n",
    "        os.remove('..\\\\data\\\\msci_temp.csv')\r\n",
    "\r\n",
    "def update_from_yahoo(filename: str, ticket: str, date_from: date, date_to: date):\r\n",
    "    yahoo_financials = YahooFinancials(ticket)\r\n",
    "\r\n",
    "    historical_stock_prices = yahoo_financials.get_historical_price_data(\r\n",
    "        start_date, end_date, step)\r\n",
    "\r\n",
    "    df = pd.DataFrame(historical_stock_prices[ticket]['prices'])\r\n",
    "    df.to_csv('..\\\\data\\\\{}.csv'.format(filename))\r\n"
   ]
  },
  {
   "cell_type": "markdown",
   "metadata": {},
   "source": [
    "Global variables:\r\n"
   ]
  },
  {
   "cell_type": "code",
   "execution_count": null,
   "metadata": {},
   "outputs": [],
   "source": [
    "year = 2021\r\n",
    "\r\n",
    "start_date = '1954-01-01'\r\n",
    "end_date = date.today().isoformat()\r\n",
    "step = 'daily'\r\n",
    "\r\n",
    "unknown_ticket = 'UNK'\r\n",
    "\r\n",
    "currencies = {\r\n",
    "    'usdeur':   {'name': 'USD/EUR', 'ticket': 'usdeur', 'source': 'stooq'},\r\n",
    "    'usdrub':   {'name': 'USD/RUB', 'ticket': 'usdrub', 'source': 'stooq'},\r\n",
    "    'usdcny':   {'name': 'USD/CNY', 'ticket': 'usdcny', 'source': 'stooq'},\r\n",
    "    'rubcny':   {'name': 'RUB/CNY', 'ticket': 'rubcny', 'source': 'stooq'},\r\n",
    "    'rubeur':   {'name': 'RUB/EUR', 'ticket': 'rubeur', 'source': 'stooq'},\r\n",
    "    #'dxy':      {'name': 'DXY', 'ticket': unknown_ticket}-\r\n",
    "}\r\n",
    "\r\n",
    "us_indexes = {\r\n",
    "    'sp500':                {'name': 'S&P 500', 'ticket': '^SPX', 'source': 'stooq'},\r\n",
    "    'dowjones':             {'name': 'Dow Jones Industrial Average', 'ticket': '^DJI', 'source': 'stooq'},\r\n",
    "    'dowjones_transport':   {'name': 'Dow Jones Transportation Average', 'ticket': '^DJT', 'source': 'stooq'},\r\n",
    "    'dowjones_utility':     {'name': 'Dow Jones Utility Average', 'ticket': '^DJU', 'source': 'stooq'},\r\n",
    "    'nasdaq':               {'name': 'NASDAQ Composite', 'ticket': '^NDQ', 'source': 'stooq'},\r\n",
    "    'russell1000':          {'name': 'Russell 1000', 'ticket': '^RUT', 'source': 'yahoo'},\r\n",
    "    'russell2000':          {'name': 'Russell 2000', 'ticket': '^RUA', 'source': 'yahoo'},\r\n",
    "    'russell3000':          {'name': 'Russell 3000', 'ticket': '^RUI', 'source': 'yahoo'},\r\n",
    "    'russell2000g':         {'name': 'Russell 2000 growth', 'ticket': '^RUJ', 'source': 'yahoo'},\r\n",
    "    'russell2000v':         {'name': 'Russell 2000 value', 'ticket': '^RUO', 'source': 'yahoo'},\r\n",
    "    'treasury10':           {'name': 'Treasury Yield 10 Years', 'ticket': '^TNX', 'source': 'yahoo'},\r\n",
    "    'vix':                  {'name': 'CBOE Volatility Index', 'ticket': '^VIX', 'source': 'yahoo'}\r\n",
    "}\r\n",
    "\r\n",
    "russia_indexies = {\r\n",
    "    'moex':             {'name': 'MOEX Russia Index', 'ticket': 'IMOEX', 'source': 'moex'},\r\n",
    "    'rts':              {'name': 'RTS Index USD', 'ticket': 'RTSI', 'source': 'moex'},\r\n",
    "    'moex_bluecheaps':  {'name': 'Индекс МосБиржи голубых фишек', 'ticket': 'MOEXBC', 'source': 'moex'},\r\n",
    "    'moex100':          {'name': 'Индекс МосБиржи широкого рынка', 'ticket': 'MOEXBMI', 'source': 'moex'},\r\n",
    "    'moex_2and3level':  {'name': 'Индекс МосБиржи средней и малой капитализации', 'ticket': 'MCXSM', 'source': 'moex'},\r\n",
    "    'moex_oil':         {'name': 'Индекс МосБиржи Нефти и газа', 'ticket': 'MOEXOG', 'source': 'moex'},\r\n",
    "    'moex_electro':     {'name': 'Индекс МосБиржи Электроэнергетики', 'ticket': 'MOEXEU', 'source': 'moex'},\r\n",
    "    'moex_telecom':     {'name': 'Индекс МосБиржи Телекоммуникаций', 'ticket': 'MOEXTL', 'source': 'moex'},\r\n",
    "    'moex_mandm':       {'name': 'Индекс МосБиржи Металлов и добычи', 'ticket': 'MOEXMM', 'source': 'moex'},\r\n",
    "    'moex_finance':     {'name': 'Индекс МосБиржи Финансов', 'ticket': 'MOEXFN', 'source': 'moex'},\r\n",
    "    'moex_potreb':      {'name': 'Индекс МосБиржи Потребительского сектора', 'ticket': 'MOEXCN', 'source': 'moex'},\r\n",
    "    'moex_chemic':      {'name': 'Индекс МосБиржи Химии и нефтехимии', 'ticket': 'MOEXCH', 'source': 'moex'},\r\n",
    "    'moex_it':          {'name': 'Индекс МосБиржи информационных технологий', 'ticket': 'MOEXIT', 'source': 'moex'},\r\n",
    "    'moex_builders':    {'name': 'Индекс МосБиржи строительных компаний', 'ticket': 'MOEXRE', 'source': 'moex'},\r\n",
    "    'moex_transport':   {'name': 'Индекс МосБиржи Транспорта', 'ticket': 'MOEXTN', 'source': 'moex'},\r\n",
    "    'moex_bond_full':   {'name': 'Индекс государственных облигаций (cовокупный доход)', 'ticket': 'RGBITR', 'source': 'moex'},\r\n",
    "    'moex_bond':        {'name': 'Индекс государственных облигаций (ценовой)', 'ticket': 'RGBI', 'source': 'moex'},\r\n",
    "    'moex_domclick':    {'name': 'Индекс московской недвижимости ДомКлик', 'ticket': 'MREDC', 'source': 'moex'},\r\n",
    "    'moex_russia_vol':  {'name': 'Индекс волатильности российского рынка', 'ticket': 'RVI', 'source': 'moex'},\r\n",
    "    'MSCI_Russia':      {'name': 'MSCI RUSSIA Standard (Large+Mid Cap)', 'ticket': '105653', 'source': 'msci'},\r\n",
    "    'MSCI_Russia_adr':  {'name': 'MSCI RUSSIA ADR/GDR Standard(Large+Mid Cap)', 'ticket': '700044', 'source': 'msci'},\r\n",
    "}\r\n",
    "\r\n",
    "other_indexies = {\r\n",
    "    #'csi':  {'name': 'China. CSI 300 Index', 'ticket': '000300.SS', 'source': 'yahoo'}, -\r\n",
    "\r\n",
    "    'msci_china':  {'name': 'MSCI China Standard (Large+Mid Cap)', 'ticket': '302400', 'source': 'msci'},\r\n",
    "    'msci_india':  {'name': 'MSCI India Standard (Large+Mid Cap)', 'ticket': '935600', 'source': 'msci'},\r\n",
    "    \r\n",
    "    'hsi':  {'name': 'China. Hang Seng Index', 'ticket': '^HSI', 'source': 'stooq'},\r\n",
    "    'shc':  {'name': 'China. Shanghai Composite Index', 'ticket': '^SHC', 'source': 'stooq'},\r\n",
    "\r\n",
    "    'ftse250': {'name': 'United Kingdom. FTSE 250', 'ticket': '^FTM', 'source': 'stooq'},\r\n",
    "    'cry': {'name': 'CRB Commodity Index', 'ticket': '^CRY', 'source': 'stooq'},\r\n",
    "    'cac40': {'name': 'France. CAC 40', 'ticket': '^CAC', 'source': 'stooq'},\r\n",
    "    'dax': {'name': 'Germany. DAX Index', 'ticket': '^DAX', 'source': 'stooq'},\r\n",
    "\r\n",
    "    'msci_world':  {'name': 'MSCI WORLD Standard(Large+Mid Cap)', 'ticket': '990100', 'source': 'msci'}\r\n",
    "\r\n",
    "    #'ftse': {'name': 'Great Britain. FTSE 100', 'ticket': '^FTSE', 'source': 'stooq'},\r\n",
    "}\r\n",
    "\r\n",
    "md(\"## Point of view: {0}. Period: {1} - {2}. Step: {3}\".format(\r\n",
    "    year, start_date, end_date, step))\r\n"
   ]
  },
  {
   "cell_type": "markdown",
   "metadata": {},
   "source": [
    "### Here we`ll analyze the cycling of markets.\r\n",
    "\r\n",
    "#### Tools:\r\n",
    "\r\n",
    "1. Seasonal pattern. Average pattern.\r\n",
    "\r\n",
    "    + all of years.\r\n",
    "    + Election\r\n",
    "    + republic or democracy\r\n",
    "\r\n",
    "2. Индекс давления ганна\r\n",
    "3. 39 месячный цикл акций\r\n",
    "4. Десятилетние циклы\r\n",
    "5. Естественный цикл\r\n",
    "\r\n",
    "#### Markets and its indexes:\r\n"
   ]
  },
  {
   "cell_type": "markdown",
   "metadata": {},
   "source": [
    "\r\n",
    "### *1. Currency*\r\n"
   ]
  },
  {
   "cell_type": "code",
   "execution_count": null,
   "metadata": {},
   "outputs": [],
   "source": [
    "md(''.join('+ {0} \\({1}\\). File is : {2}\\n'.format(\r\n",
    "   desc['name'],\r\n",
    "   desc['ticket'], \r\n",
    "   get_filename(short_name, desc['ticket'], start_date, end_date, step))\r\n",
    "    for short_name, desc in currencies.items() if desc['ticket'] is not unknown_ticket))\r\n"
   ]
  },
  {
   "cell_type": "markdown",
   "metadata": {},
   "source": [
    "### *2. US indexies*"
   ]
  },
  {
   "cell_type": "code",
   "execution_count": null,
   "metadata": {},
   "outputs": [],
   "source": [
    "md(''.join('+ {0} \\({1}\\). File is : {2}\\n'.format(\r\n",
    "   desc['name'],\r\n",
    "   desc['ticket'],\r\n",
    "   get_filename(short_name, desc['ticket'], start_date, end_date, step))\r\n",
    "    for short_name, desc in us_indexes.items() if desc['ticket'] is not unknown_ticket))"
   ]
  },
  {
   "cell_type": "markdown",
   "metadata": {},
   "source": [
    "### *3. Russia indexies*"
   ]
  },
  {
   "cell_type": "code",
   "execution_count": null,
   "metadata": {},
   "outputs": [],
   "source": [
    "md(''.join('+ {0} \\({1}\\). File is : {2}\\n'.format(\r\n",
    "   desc['name'],\r\n",
    "   desc['ticket'],\r\n",
    "   get_filename(short_name, desc['ticket'], start_date, end_date, step))\r\n",
    "    for short_name, desc in russia_indexies.items() if desc['ticket'] is not unknown_ticket))"
   ]
  },
  {
   "cell_type": "markdown",
   "metadata": {},
   "source": [
    "### *4. Other indexies*"
   ]
  },
  {
   "cell_type": "code",
   "execution_count": null,
   "metadata": {},
   "outputs": [],
   "source": [
    "md(''.join('+ {0} \\({1}\\). File is : {2}\\n'.format(\r\n",
    "   desc['name'],\r\n",
    "   desc['ticket'],\r\n",
    "   get_filename(short_name, desc['ticket'], start_date, end_date, step))\r\n",
    "    for short_name, desc in other_indexies.items() if desc['ticket'] is not unknown_ticket))"
   ]
  },
  {
   "cell_type": "markdown",
   "metadata": {},
   "source": [
    "## Currency"
   ]
  },
  {
   "cell_type": "code",
   "execution_count": null,
   "metadata": {},
   "outputs": [],
   "source": [
    "[draw_basic_plot(filename=short_name, title=desc['ticket'])\r\n",
    " for short_name, desc in currencies.items() if desc['ticket'] is not unknown_ticket]"
   ]
  },
  {
   "cell_type": "markdown",
   "metadata": {},
   "source": [
    "## US market"
   ]
  },
  {
   "cell_type": "code",
   "execution_count": null,
   "metadata": {},
   "outputs": [],
   "source": [
    "[draw_basic_plot(filename=short_name, title=desc['ticket'])\r\n",
    " for short_name, desc in us_indexes.items() if desc['ticket'] is not unknown_ticket]\r\n"
   ]
  },
  {
   "cell_type": "markdown",
   "metadata": {},
   "source": [
    "## Russia market"
   ]
  },
  {
   "cell_type": "code",
   "execution_count": null,
   "metadata": {},
   "outputs": [],
   "source": [
    "[draw_basic_plot(filename=short_name, title=desc['ticket'])\r\n",
    " for short_name, desc in russia_indexies.items() if desc['ticket'] is not unknown_ticket]\r\n"
   ]
  },
  {
   "cell_type": "markdown",
   "metadata": {},
   "source": [
    "## Other markets"
   ]
  },
  {
   "cell_type": "code",
   "execution_count": null,
   "metadata": {},
   "outputs": [],
   "source": [
    "[draw_basic_plot(filename=short_name, title=desc['ticket'])\r\n",
    " for short_name, desc in other_indexies.items() if desc['ticket'] is not unknown_ticket]\r\n"
   ]
  }
 ],
 "metadata": {
  "kernelspec": {
   "display_name": "Python 3.7.8 32-bit",
   "name": "python378jvsc74a57bd0b140b1f891d7f5d80e32e2da320cf6ca9380f361466450903247e3a62134aeb6"
  },
  "language_info": {
   "codemirror_mode": {
    "name": "ipython",
    "version": 3
   },
   "file_extension": ".py",
   "mimetype": "text/x-python",
   "name": "python",
   "nbconvert_exporter": "python",
   "pygments_lexer": "ipython3",
   "version": "3.7.8"
  },
  "orig_nbformat": 3
 },
 "nbformat": 4,
 "nbformat_minor": 2
}